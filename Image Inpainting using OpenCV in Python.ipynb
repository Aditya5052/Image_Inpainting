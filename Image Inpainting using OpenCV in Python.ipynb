{
 "cells": [
  {
   "cell_type": "code",
   "execution_count": 1,
   "id": "caf3d5cc",
   "metadata": {},
   "outputs": [
    {
     "name": "stdout",
     "output_type": "stream",
     "text": [
      "Usage: Python Inpaint\n",
      "Keys: \n",
      "f - inpaint using FMM\n",
      "n - inpaint using NS technique\n",
      "r - reset the inpaint mask\n",
      "ESC - exit\n",
      "Completed\n"
     ]
    }
   ],
   "source": [
    "import numpy as np\n",
    "import cv2 as cv\n",
    "import sys\n",
    "\n",
    "class Sketcher:\n",
    "    def __init__(self, windowname, dests, colors_func):\n",
    "        self.prev_pt = None\n",
    "        self.windowname = windowname\n",
    "        self.dests = dests\n",
    "        self.colors_func = colors_func\n",
    "        self.dirty = False  #Dirty function checks if image has been dirtied (drawn over)\n",
    "        self.show()\n",
    "        cv.setMouseCallback(self.windowname, self.on_mouse)\n",
    "\n",
    "    def show(self):\n",
    "        cv.imshow(self.windowname, self.dests[0]) #Original Image\n",
    "        cv.imshow(self.windowname+\": Mask\",self.dests[1]) # Masked Image\n",
    "        \n",
    "    def on_mouse(self, event, x, y, flags, param):\n",
    "        pt = (x,y)\n",
    "        if event == cv.EVENT_LBUTTONDOWN: #Left click\n",
    "            self.prev_pt = pt\n",
    "        elif event == cv.EVENT_LBUTTONUP:\n",
    "            self.prev_pt = None\n",
    "        if self.prev_pt and flags & cv.EVENT_FLAG_LBUTTON:\n",
    "            for dst, color in zip(self.dests, self.colors_func()):\n",
    "                cv.line(dst,self.prev_pt, pt, color, 60)\n",
    "            self.dirty = True\n",
    "            self.prev_pt = pt\n",
    "            self.show()\n",
    "\n",
    "\n",
    "def main():\n",
    "    print(\"Usage: Python Inpaint\")\n",
    "    print(\"Keys: \")\n",
    "    print(\"f - inpaint using FMM\")\n",
    "    print(\"n - inpaint using NS technique\")\n",
    "    print(\"r - reset the inpaint mask\")\n",
    "    print(\"ESC - exit\")\n",
    "\n",
    "    img = cv.imread(\"mirror_on_wall.jpeg\")  #Input image to work on\n",
    "\n",
    "    img_mask = img.copy() # Create a copy of the image\n",
    "\n",
    "    inpainted_mask_img = np.zeros(img.shape[0:2], np.uint8) #Create a black mask image from the given input image, uint8(unsigned 8 bit integer) is the datatype of image \n",
    "\n",
    "    sketch = Sketcher('image',[img_mask, inpainted_mask_img], lambda :((255,255,255), 255)) # Returns the original image,masked image and the mask and lambda function defines that white line is to be drawn\n",
    "\n",
    "    while True:\n",
    "        ch = cv.waitKey(0)  # Take input from user on what to do\n",
    "\n",
    "        if ch == 27: # ASCII code for esc key\n",
    "            break\n",
    "        if ch == ord('f'): #If f is pressed , FMM Method is used\n",
    "            res = cv.inpaint(src=img_mask, inpaintMask=inpainted_mask_img, inpaintRadius=3, flags=cv.INPAINT_TELEA)\n",
    "            cv.imshow(\"Inpaint output using FMM\",res)\n",
    "        if ch == ord('n'): # If n is pressed NS Method is used\n",
    "            res = cv.inpaint(src=img_mask, inpaintMask=inpainted_mask_img, inpaintRadius=3, flags=cv.INPAINT_NS)\n",
    "            cv.imshow(\"Inpaint output using NS\",res)\n",
    "        if ch == ord('r'):\n",
    "            img_mask[:] = img\n",
    "            inpainted_mask_img[:]=0 #Removes white lines drawn on image\n",
    "            sketch.show()\n",
    "    print(\"Completed\")\n",
    "\n",
    "\n",
    "if __name__ == '__main__':\n",
    "    main()\n",
    "    cv.destroyAllWindows()"
   ]
  }
 ],
 "metadata": {
  "kernelspec": {
   "display_name": "Python 3 (ipykernel)",
   "language": "python",
   "name": "python3"
  },
  "language_info": {
   "codemirror_mode": {
    "name": "ipython",
    "version": 3
   },
   "file_extension": ".py",
   "mimetype": "text/x-python",
   "name": "python",
   "nbconvert_exporter": "python",
   "pygments_lexer": "ipython3",
   "version": "3.10.6"
  }
 },
 "nbformat": 4,
 "nbformat_minor": 5
}
